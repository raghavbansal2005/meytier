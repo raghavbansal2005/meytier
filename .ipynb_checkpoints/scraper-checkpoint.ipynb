{
 "cells": [
  {
   "cell_type": "code",
   "execution_count": 1,
   "id": "c77676b5-de69-40c5-8032-4d3766ada626",
   "metadata": {},
   "outputs": [],
   "source": [
    "import os\n",
    "import json\n",
    "from bs4 import BeautifulSoup\n",
    "import requests\n",
    "import time"
   ]
  },
  {
   "cell_type": "code",
   "execution_count": 2,
   "id": "bde378dd-82cb-46f3-a14f-d0b1a0790721",
   "metadata": {},
   "outputs": [],
   "source": [
    "def unicodetoascii(text):\n",
    "\n",
    "    TEXT = (text.\n",
    "    \t\treplace('\\\\xe2\\\\x80\\\\x99', \"'\").\n",
    "            replace('\\\\xc3\\\\xa9', 'e').\n",
    "            replace('\\\\xe2\\\\x80\\\\x90', '-').\n",
    "            replace('\\\\xe2\\\\x80\\\\x91', '-').\n",
    "            replace('\\\\xe2\\\\x80\\\\x92', '-').\n",
    "            replace('\\\\xe2\\\\x80\\\\x93', '-').\n",
    "            replace('\\\\xe2\\\\x80\\\\x94', '-').\n",
    "            replace('\\\\xe2\\\\x80\\\\x94', '-').\n",
    "            replace('\\\\xe2\\\\x80\\\\x98', \"'\").\n",
    "            replace('\\\\xe2\\\\x80\\\\x9b', \"'\").\n",
    "            replace('\\\\xe2\\\\x80\\\\x9c', '\"').\n",
    "            replace('\\\\xe2\\\\x80\\\\x9c', '\"').\n",
    "            replace('\\\\xe2\\\\x80\\\\x9d', '\"').\n",
    "            replace('\\\\xe2\\\\x80\\\\x9e', '\"').\n",
    "            replace('\\\\xe2\\\\x80\\\\x9f', '\"').\n",
    "            replace('\\\\xe2\\\\x80\\\\xa6', '...').#\n",
    "            replace('\\\\xe2\\\\x80\\\\xb2', \"'\").\n",
    "            replace('\\\\xe2\\\\x80\\\\xb3', \"'\").\n",
    "            replace('\\\\xe2\\\\x80\\\\xb4', \"'\").\n",
    "            replace('\\\\xe2\\\\x80\\\\xb5', \"'\").\n",
    "            replace('\\\\xe2\\\\x80\\\\xb6', \"'\").\n",
    "            replace('\\\\xe2\\\\x80\\\\xb7', \"'\").\n",
    "            replace('\\\\xe2\\\\x81\\\\xba', \"+\").\n",
    "            replace('\\\\xe2\\\\x81\\\\xbb', \"-\").\n",
    "            replace('\\\\xe2\\\\x81\\\\xbc', \"=\").\n",
    "            replace('\\\\xe2\\\\x81\\\\xbd', \"(\").\n",
    "            replace('\\\\xe2\\\\x81\\\\xbe', \")\").\n",
    "            replace('\\\\xe2\\\\x80\\\\x99', \"'\")\n",
    "\n",
    "                 )\n",
    "    return TEXT"
   ]
  },
  {
   "cell_type": "code",
   "execution_count": 33,
   "id": "9cee1027-8a0f-49e9-b684-1a7d462014c9",
   "metadata": {},
   "outputs": [],
   "source": [
    "final_data = []"
   ]
  },
  {
   "cell_type": "code",
   "execution_count": 34,
   "id": "4f47ee38-f644-4977-a4f9-1035b1ca1334",
   "metadata": {
    "scrolled": true,
    "tags": []
   },
   "outputs": [],
   "source": [
    "for n in range(10):\n",
    "    res = requests.get(f\"https://www.indeed.com//jobs?q=information+technology&l=San+Francisco%2C+CA&sc=0kf%3Aexplvl%28MID_LEVEL%29jt%28fulltime%29%3B&start={10*n}\");\n",
    "    soup = BeautifulSoup(str(res.content), \"html.parser\")\n",
    "    elements = soup.find_all(\"a\", {\"class\": \"jcs-JobTitle\"})\n",
    "\n",
    "    for element in elements:\n",
    "        time.sleep(2)\n",
    "        added_str = element[\"href\"]\n",
    "        send_str = \"https://www.indeed.com\" + added_str\n",
    "        current_res = requests.get(send_str)\n",
    "        print(current_res)\n",
    "\n",
    "        soup = BeautifulSoup(str(current_res.content), \"html.parser\")\n",
    "        description = soup.find_all(\"div\", {\"class\": \"jobsearch-jobDescriptionText\"})\n",
    "        if(len(description) == 0):\n",
    "            print(current_res.content)\n",
    "        else:\n",
    "            raw_text = str(description[0].text)\n",
    "            raw_text = raw_text.replace(\"\\\\n\",\"\")\n",
    "            raw_text = raw_text.replace(\"  \",\" \")\n",
    "            raw_text = unicodetoascii(raw_text)\n",
    "            final_data.append(raw_text)"
   ]
  },
  {
   "cell_type": "code",
   "execution_count": 21,
   "id": "784c0fd1-c527-4ccc-a969-8b6aa4831613",
   "metadata": {},
   "outputs": [],
   "source": [
    "from blingfire import *"
   ]
  },
  {
   "cell_type": "code",
   "execution_count": 31,
   "id": "372e600c-092f-4f36-b2c9-ed1102b26ffa",
   "metadata": {},
   "outputs": [
    {
     "data": {
      "text/plain": [
       "[]"
      ]
     },
     "execution_count": 31,
     "metadata": {},
     "output_type": "execute_result"
    }
   ],
   "source": [
    "final_data"
   ]
  },
  {
   "cell_type": "code",
   "execution_count": 22,
   "id": "6147d08b-e6ec-4db0-87b2-9a7a95d3ab96",
   "metadata": {},
   "outputs": [
    {
     "ename": "IndexError",
     "evalue": "list index out of range",
     "output_type": "error",
     "traceback": [
      "\u001b[1;31m---------------------------------------------------------------------------\u001b[0m",
      "\u001b[1;31mIndexError\u001b[0m                                Traceback (most recent call last)",
      "\u001b[1;32m~\\AppData\\Local\\Temp/ipykernel_21080/3319953121.py\u001b[0m in \u001b[0;36m<module>\u001b[1;34m\u001b[0m\n\u001b[1;32m----> 1\u001b[1;33m \u001b[0msample_text\u001b[0m \u001b[1;33m=\u001b[0m \u001b[0mfinal_data\u001b[0m\u001b[1;33m[\u001b[0m\u001b[1;36m0\u001b[0m\u001b[1;33m]\u001b[0m\u001b[1;33m\u001b[0m\u001b[1;33m\u001b[0m\u001b[0m\n\u001b[0m",
      "\u001b[1;31mIndexError\u001b[0m: list index out of range"
     ]
    }
   ],
   "source": [
    "sample_text = final_data[0]"
   ]
  },
  {
   "cell_type": "code",
   "execution_count": 7,
   "id": "f6d9d435-addb-4c43-a4d0-2e73793bb568",
   "metadata": {},
   "outputs": [],
   "source": [
    "tokenized_text = text_to_sentences(sample_text)"
   ]
  },
  {
   "cell_type": "code",
   "execution_count": 8,
   "id": "707c2037-85b3-44a6-9c11-f5032d77d8bb",
   "metadata": {},
   "outputs": [],
   "source": [
    "first_desc_sentences =  tokenized_text.split(\"\\n\")"
   ]
  },
  {
   "cell_type": "code",
   "execution_count": 17,
   "id": "9975344a-a664-419e-ad98-f88be43bb1df",
   "metadata": {},
   "outputs": [
    {
     "data": {
      "text/plain": [
       "\"Lawrence Berkeley National Lab's (LBNL) Information Technology Division has an opening for a Telecom Network and Data Communications Technician to join the team.\""
      ]
     },
     "execution_count": 17,
     "metadata": {},
     "output_type": "execute_result"
    }
   ],
   "source": [
    "ss =first_desc_sentences[0]\n",
    "ss = unicodetoascii(ss)\n",
    "ss"
   ]
  },
  {
   "cell_type": "code",
   "execution_count": 18,
   "id": "00bac048-d260-4d3f-8ac4-d59d9785e771",
   "metadata": {},
   "outputs": [
    {
     "name": "stdout",
     "output_type": "stream",
     "text": [
      "b'\\\\xe2\\\\x80\\\\x99'\n"
     ]
    }
   ],
   "source": [
    "b1 = \"\\\\xe2\\\\x80\\\\x99\"\n",
    "print(b1.encode(\"utf-8\"))"
   ]
  },
  {
   "cell_type": "code",
   "execution_count": null,
   "id": "f0c0e8d0-ecbf-406a-8b59-294b66cb6575",
   "metadata": {},
   "outputs": [],
   "source": []
  }
 ],
 "metadata": {
  "kernelspec": {
   "display_name": "Python 3 (ipykernel)",
   "language": "python",
   "name": "python3"
  },
  "language_info": {
   "codemirror_mode": {
    "name": "ipython",
    "version": 3
   },
   "file_extension": ".py",
   "mimetype": "text/x-python",
   "name": "python",
   "nbconvert_exporter": "python",
   "pygments_lexer": "ipython3",
   "version": "3.8.11"
  }
 },
 "nbformat": 4,
 "nbformat_minor": 5
}
