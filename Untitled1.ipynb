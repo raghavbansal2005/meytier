{
 "cells": [
  {
   "cell_type": "code",
   "execution_count": 1,
   "id": "42d1a334-afb5-42b7-8c6b-0ebabb9335eb",
   "metadata": {},
   "outputs": [],
   "source": [
    "import json\n",
    "import os"
   ]
  },
  {
   "cell_type": "code",
   "execution_count": 4,
   "id": "19e2d22b-43bb-4ea5-b96f-17f4e3db138f",
   "metadata": {},
   "outputs": [],
   "source": [
    "with open('./all_sentences.json') as json_file:\n",
    "    sentence_list_words = json.load(json_file)"
   ]
  },
  {
   "cell_type": "code",
   "execution_count": 14,
   "id": "c2bb9995-d3cf-43d6-8080-77e0da825d33",
   "metadata": {},
   "outputs": [],
   "source": [
    "sentences = []\n",
    "for sentence in sentence_list_words[\"sentences\"]:\n",
    "    current_sentence = \"\"\n",
    "    for word in sentence:\n",
    "        current_sentence += word\n",
    "        current_sentence += \" \"\n",
    "    \n",
    "    current_sentence = current_sentence[:-1]\n",
    "    sentences.append(current_sentence)"
   ]
  },
  {
   "cell_type": "code",
   "execution_count": 18,
   "id": "54ccdbc5-f734-4f6d-805b-48339409ba10",
   "metadata": {},
   "outputs": [
    {
     "data": {
      "text/plain": [
       "'a career at arup offers you the chance to make a positive difference in the world'"
      ]
     },
     "execution_count": 18,
     "metadata": {},
     "output_type": "execute_result"
    }
   ],
   "source": [
    "sentences[0]"
   ]
  },
  {
   "cell_type": "code",
   "execution_count": 1,
   "id": "e566805e-85e5-4e2e-8843-b341e376f3cd",
   "metadata": {},
   "outputs": [
    {
     "ename": "ModuleNotFoundError",
     "evalue": "No module named 'boto3'",
     "output_type": "error",
     "traceback": [
      "\u001b[0;31m---------------------------------------------------------------------------\u001b[0m",
      "\u001b[0;31mModuleNotFoundError\u001b[0m                       Traceback (most recent call last)",
      "Input \u001b[0;32mIn [1]\u001b[0m, in \u001b[0;36m<cell line: 1>\u001b[0;34m()\u001b[0m\n\u001b[0;32m----> 1\u001b[0m \u001b[38;5;28;01mimport\u001b[39;00m \u001b[38;5;21;01mboto3\u001b[39;00m\n",
      "\u001b[0;31mModuleNotFoundError\u001b[0m: No module named 'boto3'"
     ]
    }
   ],
   "source": [
    "import boto3"
   ]
  },
  {
   "cell_type": "code",
   "execution_count": 2,
   "id": "7b98a82e-3980-4f60-99eb-0173a1013ec0",
   "metadata": {},
   "outputs": [],
   "source": [
    "import json"
   ]
  },
  {
   "cell_type": "code",
   "execution_count": null,
   "id": "e6d4eb5e-776e-41a9-a2c5-57c472c25ee1",
   "metadata": {},
   "outputs": [],
   "source": []
  }
 ],
 "metadata": {
  "kernelspec": {
   "display_name": "Python 3 (ipykernel)",
   "language": "python",
   "name": "python3"
  },
  "language_info": {
   "codemirror_mode": {
    "name": "ipython",
    "version": 3
   },
   "file_extension": ".py",
   "mimetype": "text/x-python",
   "name": "python",
   "nbconvert_exporter": "python",
   "pygments_lexer": "ipython3",
   "version": "3.10.4"
  }
 },
 "nbformat": 4,
 "nbformat_minor": 5
}
