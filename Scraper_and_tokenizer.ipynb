{
 "cells": [
  {
   "cell_type": "code",
   "execution_count": 1,
   "id": "b9eec189-ff4d-43a2-80ae-ca94597ae212",
   "metadata": {},
   "outputs": [],
   "source": [
    "import os\n",
    "import json\n",
    "from bs4 import BeautifulSoup\n",
    "import requests"
   ]
  },
  {
   "cell_type": "code",
   "execution_count": 32,
   "id": "1a26cbe8-2351-4e5d-aa98-45a5db3861a2",
   "metadata": {},
   "outputs": [],
   "source": [
    "res = requests.get(r\"https://www.indeed.com/jobs?q=information%20technology&l=San%20Francisco%2C%20CA&sc=0kf%3Aexplvl(MID_LEVEL)jt(fulltime)%3B&vjk=2d96653fd7ce7276&advn=8134151690508319\");"
   ]
  },
  {
   "cell_type": "code",
   "execution_count": 47,
   "id": "e6dce6cd-ebc9-4b77-b4d4-d7249415816a",
   "metadata": {},
   "outputs": [
    {
     "name": "stdout",
     "output_type": "stream",
     "text": [
      "\n"
     ]
    },
    {
     "name": "stderr",
     "output_type": "stream",
     "text": [
      "[WDM] - ====== WebDriver manager ======\n",
      "[WDM] - Current google-chrome version is 101.0.4951\n",
      "[WDM] - Get LATEST chromedriver version for 101.0.4951 google-chrome\n",
      "[WDM] - Driver [/Users/raghavbansal/.wdm/drivers/chromedriver/mac64_m1/101.0.4951.41/chromedriver] found in cache\n"
     ]
    },
    {
     "ename": "AttributeError",
     "evalue": "'WebDriver' object has no attribute 'findElement'",
     "output_type": "error",
     "traceback": [
      "\u001b[0;31m---------------------------------------------------------------------------\u001b[0m",
      "\u001b[0;31mAttributeError\u001b[0m                            Traceback (most recent call last)",
      "Input \u001b[0;32mIn [47]\u001b[0m, in \u001b[0;36m<cell line: 9>\u001b[0;34m()\u001b[0m\n\u001b[1;32m      6\u001b[0m driver \u001b[38;5;241m=\u001b[39m webdriver\u001b[38;5;241m.\u001b[39mChrome(service\u001b[38;5;241m=\u001b[39mService(ChromeDriverManager()\u001b[38;5;241m.\u001b[39minstall()))\n\u001b[1;32m      8\u001b[0m driver\u001b[38;5;241m.\u001b[39mget(\u001b[38;5;124m\"\u001b[39m\u001b[38;5;124mhttps://www.browserstack.com/\u001b[39m\u001b[38;5;124m\"\u001b[39m);\n\u001b[0;32m----> 9\u001b[0m \u001b[43mdriver\u001b[49m\u001b[38;5;241;43m.\u001b[39;49m\u001b[43mfindElement\u001b[49m(By\u001b[38;5;241m.\u001b[39mid(\u001b[38;5;124m\"\u001b[39m\u001b[38;5;124msignupModalButton\u001b[39m\u001b[38;5;124m\"\u001b[39m))\u001b[38;5;241m.\u001b[39mclick()\n",
      "\u001b[0;31mAttributeError\u001b[0m: 'WebDriver' object has no attribute 'findElement'"
     ]
    }
   ],
   "source": [
    "from selenium import webdriver\n",
    "from selenium.webdriver.chrome.service import Service\n",
    "from webdriver_manager.chrome import ChromeDriverManager\n",
    "\n",
    "\n",
    "driver = webdriver.Chrome(service=Service(ChromeDriverManager().install()))\n",
    "\n",
    "driver.get(\"https://www.browserstack.com/\");\n",
    "\n",
    "driver.findElement(By.id(\"signupModalButton\")).click()\n",
    "\n",
    "# driver.get(\"https://www.indeed.com/jobs?q=information%20technology&l=San%20Francisco%2C%20CA&vjk=decd09bef6817b59\")\n",
    "\n",
    "# page_elements = driver.find_elements(By.CLASS_NAME, 'jcs-JobTitle')\n",
    "\n",
    "# page_elements[2].click()"
   ]
  },
  {
   "cell_type": "code",
   "execution_count": 44,
   "id": "cf9d8434-88d1-4551-9a95-0d5564918330",
   "metadata": {},
   "outputs": [],
   "source": [
    "page_elements = driver.find_elements(By.CLASS_NAME, 'jcs-JobTitle')\n",
    "test_text;"
   ]
  },
  {
   "cell_type": "code",
   "execution_count": 42,
   "id": "73ea6ad3-bcda-4543-b8d9-6f713287145c",
   "metadata": {},
   "outputs": [
    {
     "ename": "NoSuchWindowException",
     "evalue": "Message: no such window: window was already closed\n  (Session info: chrome=101.0.4951.64)\nStacktrace:\n0   chromedriver                        0x00000001052a49a0 chromedriver + 4426144\n1   chromedriver                        0x000000010523e798 chromedriver + 4007832\n2   chromedriver                        0x0000000104e9acc4 chromedriver + 191684\n3   chromedriver                        0x0000000104e8b77c chromedriver + 128892\n4   chromedriver                        0x0000000104e85f94 chromedriver + 106388\n5   chromedriver                        0x0000000104ef1e64 chromedriver + 548452\n6   chromedriver                        0x0000000104ebecf4 chromedriver + 339188\n7   chromedriver                        0x000000010527b7d0 chromedriver + 4257744\n8   chromedriver                        0x000000010527f580 chromedriver + 4273536\n9   chromedriver                        0x00000001052836c4 chromedriver + 4290244\n10  chromedriver                        0x000000010527fcf8 chromedriver + 4275448\n11  chromedriver                        0x000000010525fb38 chromedriver + 4143928\n12  chromedriver                        0x000000010529721c chromedriver + 4370972\n13  chromedriver                        0x0000000105297380 chromedriver + 4371328\n14  chromedriver                        0x00000001052ab154 chromedriver + 4452692\n15  libsystem_pthread.dylib             0x00000001901e1240 _pthread_start + 148\n16  libsystem_pthread.dylib             0x00000001901dc024 thread_start + 8\n",
     "output_type": "error",
     "traceback": [
      "\u001b[0;31m---------------------------------------------------------------------------\u001b[0m",
      "\u001b[0;31mNoSuchWindowException\u001b[0m                     Traceback (most recent call last)",
      "Input \u001b[0;32mIn [42]\u001b[0m, in \u001b[0;36m<cell line: 1>\u001b[0;34m()\u001b[0m\n\u001b[0;32m----> 1\u001b[0m \u001b[43mdriver\u001b[49m\u001b[38;5;241;43m.\u001b[39;49m\u001b[43mget\u001b[49m\u001b[43m(\u001b[49m\u001b[38;5;124;43m\"\u001b[39;49m\u001b[38;5;124;43mhttps://www.browserstack.com/\u001b[39;49m\u001b[38;5;124;43m\"\u001b[39;49m\u001b[43m)\u001b[49m;\n\u001b[1;32m      2\u001b[0m driver\u001b[38;5;241m.\u001b[39mfindElement(By\u001b[38;5;241m.\u001b[39mid(\u001b[38;5;124m\"\u001b[39m\u001b[38;5;124msignupModalButton\u001b[39m\u001b[38;5;124m\"\u001b[39m))\u001b[38;5;241m.\u001b[39mclick()\n",
      "File \u001b[0;32m/opt/homebrew/lib/python3.9/site-packages/selenium/webdriver/remote/webdriver.py:442\u001b[0m, in \u001b[0;36mWebDriver.get\u001b[0;34m(self, url)\u001b[0m\n\u001b[1;32m    438\u001b[0m \u001b[38;5;28;01mdef\u001b[39;00m \u001b[38;5;21mget\u001b[39m(\u001b[38;5;28mself\u001b[39m, url: \u001b[38;5;28mstr\u001b[39m) \u001b[38;5;241m-\u001b[39m\u001b[38;5;241m>\u001b[39m \u001b[38;5;28;01mNone\u001b[39;00m:\n\u001b[1;32m    439\u001b[0m     \u001b[38;5;124;03m\"\"\"\u001b[39;00m\n\u001b[1;32m    440\u001b[0m \u001b[38;5;124;03m    Loads a web page in the current browser session.\u001b[39;00m\n\u001b[1;32m    441\u001b[0m \u001b[38;5;124;03m    \"\"\"\u001b[39;00m\n\u001b[0;32m--> 442\u001b[0m     \u001b[38;5;28;43mself\u001b[39;49m\u001b[38;5;241;43m.\u001b[39;49m\u001b[43mexecute\u001b[49m\u001b[43m(\u001b[49m\u001b[43mCommand\u001b[49m\u001b[38;5;241;43m.\u001b[39;49m\u001b[43mGET\u001b[49m\u001b[43m,\u001b[49m\u001b[43m \u001b[49m\u001b[43m{\u001b[49m\u001b[38;5;124;43m'\u001b[39;49m\u001b[38;5;124;43murl\u001b[39;49m\u001b[38;5;124;43m'\u001b[39;49m\u001b[43m:\u001b[49m\u001b[43m \u001b[49m\u001b[43murl\u001b[49m\u001b[43m}\u001b[49m\u001b[43m)\u001b[49m\n",
      "File \u001b[0;32m/opt/homebrew/lib/python3.9/site-packages/selenium/webdriver/remote/webdriver.py:430\u001b[0m, in \u001b[0;36mWebDriver.execute\u001b[0;34m(self, driver_command, params)\u001b[0m\n\u001b[1;32m    428\u001b[0m response \u001b[38;5;241m=\u001b[39m \u001b[38;5;28mself\u001b[39m\u001b[38;5;241m.\u001b[39mcommand_executor\u001b[38;5;241m.\u001b[39mexecute(driver_command, params)\n\u001b[1;32m    429\u001b[0m \u001b[38;5;28;01mif\u001b[39;00m response:\n\u001b[0;32m--> 430\u001b[0m     \u001b[38;5;28;43mself\u001b[39;49m\u001b[38;5;241;43m.\u001b[39;49m\u001b[43merror_handler\u001b[49m\u001b[38;5;241;43m.\u001b[39;49m\u001b[43mcheck_response\u001b[49m\u001b[43m(\u001b[49m\u001b[43mresponse\u001b[49m\u001b[43m)\u001b[49m\n\u001b[1;32m    431\u001b[0m     response[\u001b[38;5;124m'\u001b[39m\u001b[38;5;124mvalue\u001b[39m\u001b[38;5;124m'\u001b[39m] \u001b[38;5;241m=\u001b[39m \u001b[38;5;28mself\u001b[39m\u001b[38;5;241m.\u001b[39m_unwrap_value(\n\u001b[1;32m    432\u001b[0m         response\u001b[38;5;241m.\u001b[39mget(\u001b[38;5;124m'\u001b[39m\u001b[38;5;124mvalue\u001b[39m\u001b[38;5;124m'\u001b[39m, \u001b[38;5;28;01mNone\u001b[39;00m))\n\u001b[1;32m    433\u001b[0m     \u001b[38;5;28;01mreturn\u001b[39;00m response\n",
      "File \u001b[0;32m/opt/homebrew/lib/python3.9/site-packages/selenium/webdriver/remote/errorhandler.py:247\u001b[0m, in \u001b[0;36mErrorHandler.check_response\u001b[0;34m(self, response)\u001b[0m\n\u001b[1;32m    245\u001b[0m         alert_text \u001b[38;5;241m=\u001b[39m value[\u001b[38;5;124m'\u001b[39m\u001b[38;5;124malert\u001b[39m\u001b[38;5;124m'\u001b[39m]\u001b[38;5;241m.\u001b[39mget(\u001b[38;5;124m'\u001b[39m\u001b[38;5;124mtext\u001b[39m\u001b[38;5;124m'\u001b[39m)\n\u001b[1;32m    246\u001b[0m     \u001b[38;5;28;01mraise\u001b[39;00m exception_class(message, screen, stacktrace, alert_text)  \u001b[38;5;66;03m# type: ignore[call-arg]  # mypy is not smart enough here\u001b[39;00m\n\u001b[0;32m--> 247\u001b[0m \u001b[38;5;28;01mraise\u001b[39;00m exception_class(message, screen, stacktrace)\n",
      "\u001b[0;31mNoSuchWindowException\u001b[0m: Message: no such window: window was already closed\n  (Session info: chrome=101.0.4951.64)\nStacktrace:\n0   chromedriver                        0x00000001052a49a0 chromedriver + 4426144\n1   chromedriver                        0x000000010523e798 chromedriver + 4007832\n2   chromedriver                        0x0000000104e9acc4 chromedriver + 191684\n3   chromedriver                        0x0000000104e8b77c chromedriver + 128892\n4   chromedriver                        0x0000000104e85f94 chromedriver + 106388\n5   chromedriver                        0x0000000104ef1e64 chromedriver + 548452\n6   chromedriver                        0x0000000104ebecf4 chromedriver + 339188\n7   chromedriver                        0x000000010527b7d0 chromedriver + 4257744\n8   chromedriver                        0x000000010527f580 chromedriver + 4273536\n9   chromedriver                        0x00000001052836c4 chromedriver + 4290244\n10  chromedriver                        0x000000010527fcf8 chromedriver + 4275448\n11  chromedriver                        0x000000010525fb38 chromedriver + 4143928\n12  chromedriver                        0x000000010529721c chromedriver + 4370972\n13  chromedriver                        0x0000000105297380 chromedriver + 4371328\n14  chromedriver                        0x00000001052ab154 chromedriver + 4452692\n15  libsystem_pthread.dylib             0x00000001901e1240 _pthread_start + 148\n16  libsystem_pthread.dylib             0x00000001901dc024 thread_start + 8\n"
     ]
    }
   ],
   "source": [
    "driver.get(\"https://www.browserstack.com/\");\n",
    "driver.findElement(By.id(\"signupModalButton\")).click()"
   ]
  },
  {
   "cell_type": "code",
   "execution_count": null,
   "id": "2616c847-21f7-47da-9cd8-9109d71cebba",
   "metadata": {},
   "outputs": [],
   "source": [
    "element[0].click()"
   ]
  },
  {
   "cell_type": "code",
   "execution_count": 35,
   "id": "065ab64b-74e9-468d-b466-be9f57c0d306",
   "metadata": {},
   "outputs": [
    {
     "name": "stderr",
     "output_type": "stream",
     "text": [
      "/var/folders/dk/x6xr9ng103sfssc512l2rrlw0000gn/T/ipykernel_95564/2558450541.py:4: DeprecationWarning: find_element_by_* commands are deprecated. Please use find_element() instead\n",
      "  s = driver.find_element_by_id(\"jobDescriptionText\")\n"
     ]
    },
    {
     "ename": "NoSuchElementException",
     "evalue": "Message: no such element: Unable to locate element: {\"method\":\"css selector\",\"selector\":\"[id=\"jobDescriptionText\"]\"}\n  (Session info: chrome=101.0.4951.64)\nStacktrace:\n0   chromedriver                        0x00000001006f49a0 chromedriver + 4426144\n1   chromedriver                        0x000000010068e798 chromedriver + 4007832\n2   chromedriver                        0x00000001002eacc4 chromedriver + 191684\n3   chromedriver                        0x00000001003198d4 chromedriver + 383188\n4   chromedriver                        0x0000000100342648 chromedriver + 550472\n5   chromedriver                        0x000000010030ecf4 chromedriver + 339188\n6   chromedriver                        0x00000001006cb7d0 chromedriver + 4257744\n7   chromedriver                        0x00000001006cf580 chromedriver + 4273536\n8   chromedriver                        0x00000001006d36c4 chromedriver + 4290244\n9   chromedriver                        0x00000001006cfcf8 chromedriver + 4275448\n10  chromedriver                        0x00000001006afb38 chromedriver + 4143928\n11  chromedriver                        0x00000001006e721c chromedriver + 4370972\n12  chromedriver                        0x00000001006e7380 chromedriver + 4371328\n13  chromedriver                        0x00000001006fb154 chromedriver + 4452692\n14  libsystem_pthread.dylib             0x00000001901e1240 _pthread_start + 148\n15  libsystem_pthread.dylib             0x00000001901dc024 thread_start + 8\n",
     "output_type": "error",
     "traceback": [
      "\u001b[0;31m---------------------------------------------------------------------------\u001b[0m",
      "\u001b[0;31mNoSuchElementException\u001b[0m                    Traceback (most recent call last)",
      "Input \u001b[0;32mIn [35]\u001b[0m, in \u001b[0;36m<cell line: 1>\u001b[0;34m()\u001b[0m\n\u001b[1;32m      2\u001b[0m element\u001b[38;5;241m.\u001b[39mclick();\n\u001b[1;32m      3\u001b[0m test_text \u001b[38;5;241m=\u001b[39m driver\u001b[38;5;241m.\u001b[39mpage_source\n\u001b[0;32m----> 4\u001b[0m s \u001b[38;5;241m=\u001b[39m \u001b[43mdriver\u001b[49m\u001b[38;5;241;43m.\u001b[39;49m\u001b[43mfind_element_by_id\u001b[49m\u001b[43m(\u001b[49m\u001b[38;5;124;43m\"\u001b[39;49m\u001b[38;5;124;43mjobDescriptionText\u001b[39;49m\u001b[38;5;124;43m\"\u001b[39;49m\u001b[43m)\u001b[49m\n\u001b[1;32m      5\u001b[0m text \u001b[38;5;241m=\u001b[39m driver\u001b[38;5;241m.\u001b[39mexecute_script(\u001b[38;5;124m\"\u001b[39m\u001b[38;5;124mreturn arguments[0].innerHTML;\u001b[39m\u001b[38;5;124m\"\u001b[39m,s)\n\u001b[1;32m      6\u001b[0m \u001b[38;5;28mprint\u001b[39m(text)\n",
      "File \u001b[0;32m/opt/homebrew/lib/python3.9/site-packages/selenium/webdriver/remote/webdriver.py:478\u001b[0m, in \u001b[0;36mWebDriver.find_element_by_id\u001b[0;34m(self, id_)\u001b[0m\n\u001b[1;32m    457\u001b[0m \u001b[38;5;124;03m\"\"\"Finds an element by id.\u001b[39;00m\n\u001b[1;32m    458\u001b[0m \n\u001b[1;32m    459\u001b[0m \u001b[38;5;124;03m:Args:\u001b[39;00m\n\u001b[0;32m   (...)\u001b[0m\n\u001b[1;32m    471\u001b[0m \u001b[38;5;124;03m        element = driver.find_element_by_id('foo')\u001b[39;00m\n\u001b[1;32m    472\u001b[0m \u001b[38;5;124;03m\"\"\"\u001b[39;00m\n\u001b[1;32m    473\u001b[0m warnings\u001b[38;5;241m.\u001b[39mwarn(\n\u001b[1;32m    474\u001b[0m     \u001b[38;5;124m\"\u001b[39m\u001b[38;5;124mfind_element_by_* commands are deprecated. Please use find_element() instead\u001b[39m\u001b[38;5;124m\"\u001b[39m,\n\u001b[1;32m    475\u001b[0m     \u001b[38;5;167;01mDeprecationWarning\u001b[39;00m,\n\u001b[1;32m    476\u001b[0m     stacklevel\u001b[38;5;241m=\u001b[39m\u001b[38;5;241m2\u001b[39m,\n\u001b[1;32m    477\u001b[0m )\n\u001b[0;32m--> 478\u001b[0m \u001b[38;5;28;01mreturn\u001b[39;00m \u001b[38;5;28;43mself\u001b[39;49m\u001b[38;5;241;43m.\u001b[39;49m\u001b[43mfind_element\u001b[49m\u001b[43m(\u001b[49m\u001b[43mby\u001b[49m\u001b[38;5;241;43m=\u001b[39;49m\u001b[43mBy\u001b[49m\u001b[38;5;241;43m.\u001b[39;49m\u001b[43mID\u001b[49m\u001b[43m,\u001b[49m\u001b[43m \u001b[49m\u001b[43mvalue\u001b[49m\u001b[38;5;241;43m=\u001b[39;49m\u001b[43mid_\u001b[49m\u001b[43m)\u001b[49m\n",
      "File \u001b[0;32m/opt/homebrew/lib/python3.9/site-packages/selenium/webdriver/remote/webdriver.py:1251\u001b[0m, in \u001b[0;36mWebDriver.find_element\u001b[0;34m(self, by, value)\u001b[0m\n\u001b[1;32m   1248\u001b[0m     by \u001b[38;5;241m=\u001b[39m By\u001b[38;5;241m.\u001b[39mCSS_SELECTOR\n\u001b[1;32m   1249\u001b[0m     value \u001b[38;5;241m=\u001b[39m \u001b[38;5;124m'\u001b[39m\u001b[38;5;124m[name=\u001b[39m\u001b[38;5;124m\"\u001b[39m\u001b[38;5;132;01m%s\u001b[39;00m\u001b[38;5;124m\"\u001b[39m\u001b[38;5;124m]\u001b[39m\u001b[38;5;124m'\u001b[39m \u001b[38;5;241m%\u001b[39m value\n\u001b[0;32m-> 1251\u001b[0m \u001b[38;5;28;01mreturn\u001b[39;00m \u001b[38;5;28;43mself\u001b[39;49m\u001b[38;5;241;43m.\u001b[39;49m\u001b[43mexecute\u001b[49m\u001b[43m(\u001b[49m\u001b[43mCommand\u001b[49m\u001b[38;5;241;43m.\u001b[39;49m\u001b[43mFIND_ELEMENT\u001b[49m\u001b[43m,\u001b[49m\u001b[43m \u001b[49m\u001b[43m{\u001b[49m\n\u001b[1;32m   1252\u001b[0m \u001b[43m    \u001b[49m\u001b[38;5;124;43m'\u001b[39;49m\u001b[38;5;124;43musing\u001b[39;49m\u001b[38;5;124;43m'\u001b[39;49m\u001b[43m:\u001b[49m\u001b[43m \u001b[49m\u001b[43mby\u001b[49m\u001b[43m,\u001b[49m\n\u001b[1;32m   1253\u001b[0m \u001b[43m    \u001b[49m\u001b[38;5;124;43m'\u001b[39;49m\u001b[38;5;124;43mvalue\u001b[39;49m\u001b[38;5;124;43m'\u001b[39;49m\u001b[43m:\u001b[49m\u001b[43m \u001b[49m\u001b[43mvalue\u001b[49m\u001b[43m}\u001b[49m\u001b[43m)\u001b[49m[\u001b[38;5;124m'\u001b[39m\u001b[38;5;124mvalue\u001b[39m\u001b[38;5;124m'\u001b[39m]\n",
      "File \u001b[0;32m/opt/homebrew/lib/python3.9/site-packages/selenium/webdriver/remote/webdriver.py:430\u001b[0m, in \u001b[0;36mWebDriver.execute\u001b[0;34m(self, driver_command, params)\u001b[0m\n\u001b[1;32m    428\u001b[0m response \u001b[38;5;241m=\u001b[39m \u001b[38;5;28mself\u001b[39m\u001b[38;5;241m.\u001b[39mcommand_executor\u001b[38;5;241m.\u001b[39mexecute(driver_command, params)\n\u001b[1;32m    429\u001b[0m \u001b[38;5;28;01mif\u001b[39;00m response:\n\u001b[0;32m--> 430\u001b[0m     \u001b[38;5;28;43mself\u001b[39;49m\u001b[38;5;241;43m.\u001b[39;49m\u001b[43merror_handler\u001b[49m\u001b[38;5;241;43m.\u001b[39;49m\u001b[43mcheck_response\u001b[49m\u001b[43m(\u001b[49m\u001b[43mresponse\u001b[49m\u001b[43m)\u001b[49m\n\u001b[1;32m    431\u001b[0m     response[\u001b[38;5;124m'\u001b[39m\u001b[38;5;124mvalue\u001b[39m\u001b[38;5;124m'\u001b[39m] \u001b[38;5;241m=\u001b[39m \u001b[38;5;28mself\u001b[39m\u001b[38;5;241m.\u001b[39m_unwrap_value(\n\u001b[1;32m    432\u001b[0m         response\u001b[38;5;241m.\u001b[39mget(\u001b[38;5;124m'\u001b[39m\u001b[38;5;124mvalue\u001b[39m\u001b[38;5;124m'\u001b[39m, \u001b[38;5;28;01mNone\u001b[39;00m))\n\u001b[1;32m    433\u001b[0m     \u001b[38;5;28;01mreturn\u001b[39;00m response\n",
      "File \u001b[0;32m/opt/homebrew/lib/python3.9/site-packages/selenium/webdriver/remote/errorhandler.py:247\u001b[0m, in \u001b[0;36mErrorHandler.check_response\u001b[0;34m(self, response)\u001b[0m\n\u001b[1;32m    245\u001b[0m         alert_text \u001b[38;5;241m=\u001b[39m value[\u001b[38;5;124m'\u001b[39m\u001b[38;5;124malert\u001b[39m\u001b[38;5;124m'\u001b[39m]\u001b[38;5;241m.\u001b[39mget(\u001b[38;5;124m'\u001b[39m\u001b[38;5;124mtext\u001b[39m\u001b[38;5;124m'\u001b[39m)\n\u001b[1;32m    246\u001b[0m     \u001b[38;5;28;01mraise\u001b[39;00m exception_class(message, screen, stacktrace, alert_text)  \u001b[38;5;66;03m# type: ignore[call-arg]  # mypy is not smart enough here\u001b[39;00m\n\u001b[0;32m--> 247\u001b[0m \u001b[38;5;28;01mraise\u001b[39;00m exception_class(message, screen, stacktrace)\n",
      "\u001b[0;31mNoSuchElementException\u001b[0m: Message: no such element: Unable to locate element: {\"method\":\"css selector\",\"selector\":\"[id=\"jobDescriptionText\"]\"}\n  (Session info: chrome=101.0.4951.64)\nStacktrace:\n0   chromedriver                        0x00000001006f49a0 chromedriver + 4426144\n1   chromedriver                        0x000000010068e798 chromedriver + 4007832\n2   chromedriver                        0x00000001002eacc4 chromedriver + 191684\n3   chromedriver                        0x00000001003198d4 chromedriver + 383188\n4   chromedriver                        0x0000000100342648 chromedriver + 550472\n5   chromedriver                        0x000000010030ecf4 chromedriver + 339188\n6   chromedriver                        0x00000001006cb7d0 chromedriver + 4257744\n7   chromedriver                        0x00000001006cf580 chromedriver + 4273536\n8   chromedriver                        0x00000001006d36c4 chromedriver + 4290244\n9   chromedriver                        0x00000001006cfcf8 chromedriver + 4275448\n10  chromedriver                        0x00000001006afb38 chromedriver + 4143928\n11  chromedriver                        0x00000001006e721c chromedriver + 4370972\n12  chromedriver                        0x00000001006e7380 chromedriver + 4371328\n13  chromedriver                        0x00000001006fb154 chromedriver + 4452692\n14  libsystem_pthread.dylib             0x00000001901e1240 _pthread_start + 148\n15  libsystem_pthread.dylib             0x00000001901dc024 thread_start + 8\n"
     ]
    }
   ],
   "source": [
    "for element in page_elements:\n",
    "    element.click();\n",
    "    test_text = driver.page_source\n",
    "    s = driver.find_element_by_id(\"jobDescriptionText\")\n",
    "    text = driver.execute_script(\"return arguments[0].innerHTML;\",s)\n",
    "    print(text)"
   ]
  },
  {
   "cell_type": "code",
   "execution_count": 3,
   "id": "32a8bef6-e900-487b-9f23-6ca8ee23503b",
   "metadata": {
    "scrolled": true,
    "tags": []
   },
   "outputs": [
    {
     "ename": "NameError",
     "evalue": "name 'test_text' is not defined",
     "output_type": "error",
     "traceback": [
      "\u001b[0;31m---------------------------------------------------------------------------\u001b[0m",
      "\u001b[0;31mNameError\u001b[0m                                 Traceback (most recent call last)",
      "Input \u001b[0;32mIn [3]\u001b[0m, in \u001b[0;36m<cell line: 1>\u001b[0;34m()\u001b[0m\n\u001b[0;32m----> 1\u001b[0m soup \u001b[38;5;241m=\u001b[39m BeautifulSoup(\u001b[43mtest_text\u001b[49m, \u001b[38;5;124m\"\u001b[39m\u001b[38;5;124mhtml.parser\u001b[39m\u001b[38;5;124m\"\u001b[39m)\n\u001b[1;32m      2\u001b[0m soup\u001b[38;5;241m.\u001b[39mbody\n",
      "\u001b[0;31mNameError\u001b[0m: name 'test_text' is not defined"
     ]
    }
   ],
   "source": [
    "soup = BeautifulSoup(test_text, \"html.parser\")\n",
    "soup.body"
   ]
  },
  {
   "cell_type": "code",
   "execution_count": 29,
   "id": "ac69fdd0-e573-4685-89d2-307adc6237e6",
   "metadata": {},
   "outputs": [],
   "source": [
    "postings = soup.find_all(\"div\", {\"class\": \"jobsearch-jobDescriptionText\"})"
   ]
  },
  {
   "cell_type": "code",
   "execution_count": 30,
   "id": "8bfa6ccb-3b41-404e-a8fa-e13f857dbf04",
   "metadata": {
    "scrolled": true,
    "tags": []
   },
   "outputs": [
    {
     "data": {
      "text/plain": [
       "[]"
      ]
     },
     "execution_count": 30,
     "metadata": {},
     "output_type": "execute_result"
    }
   ],
   "source": [
    "postings"
   ]
  },
  {
   "cell_type": "code",
   "execution_count": null,
   "id": "b278838a-6cd9-43eb-b9cc-7c85b15e0d24",
   "metadata": {},
   "outputs": [],
   "source": [
    "res = requests.get(r\"https://www.indeed.com/jobs?q=information%20technology&l=San%20Francisco%2C%20CA&sc=0kf%3Aexplvl(MID_LEVEL)jt(fulltime)%3B&vjk=2d96653fd7ce7276&advn=8134151690508319\");"
   ]
  },
  {
   "cell_type": "code",
   "execution_count": 95,
   "id": "4a5f5b1d-c289-455e-8d53-29e24357d3c0",
   "metadata": {},
   "outputs": [],
   "source": [
    "s1 = \"https://www.indeed.com/jobs?q=information%20technology&l=San%20Francisco%2C%20CA&sc=0kf%3Aexplvl(MID_LEVEL)jt(fulltime)%3B&vjk=decd09bef6817b59\"\n",
    "s2 = \"https://www.indeed.com/jobs?q=information%20technology&l=San%20Francisco%2C%20CA&sc=0kf%3Aexplvl(MID_LEVEL)jt(fulltime)%3B&start=10&vjk=6f73f30ce348025e\"\n",
    "s3 = \"https://www.indeed.com/jobs?q=information%20technology&l=San%20Francisco%2C%20CA&sc=0kf%3Aexplvl(MID_LEVEL)jt(fulltime)%3B&start=20&vjk=44f7f98073d30cd6\"\n",
    "s4 = \"https://www.indeed.com/jobs?q=information%20technology&l=San%20Francisco%2C%20CA&sc=0kf%3Aexplvl(MID_LEVEL)jt(fulltime)%3B&start=30&vjk=11b032d61c28b2cd\""
   ]
  },
  {
   "cell_type": "code",
   "execution_count": 94,
   "id": "6429717d-eced-4c33-8962-caed9c5faf65",
   "metadata": {},
   "outputs": [
    {
     "name": "stdout",
     "output_type": "stream",
     "text": [
      "123\n",
      "124\n",
      "125\n",
      "126\n",
      "127\n",
      "128\n",
      "129\n",
      "130\n",
      "131\n",
      "132\n",
      "133\n",
      "134\n",
      "135\n",
      "136\n",
      "137\n",
      "138\n",
      "140\n",
      "141\n",
      "142\n"
     ]
    }
   ],
   "source": [
    "for i in range(143):\n",
    "    if(s1[i] != s2[i]):\n",
    "        print(i)"
   ]
  },
  {
   "cell_type": "code",
   "execution_count": 50,
   "id": "5dbd0ba0-9a80-4586-bfdf-cfea2c1489d8",
   "metadata": {},
   "outputs": [
    {
     "data": {
      "text/plain": [
       "143"
      ]
     },
     "execution_count": 50,
     "metadata": {},
     "output_type": "execute_result"
    }
   ],
   "source": [
    "len(s2)"
   ]
  },
  {
   "cell_type": "code",
   "execution_count": 2,
   "id": "03f67f3f-3ca9-4f3f-8052-fc48284cdb72",
   "metadata": {},
   "outputs": [],
   "source": [
    "def unicodetoascii(text):\n",
    "\n",
    "    TEXT = (text.\n",
    "    \t\treplace('\\\\xe2\\\\x80\\\\x99', \"'\").\n",
    "            replace('\\\\xc3\\\\xa9', 'e').\n",
    "            replace('\\\\xe2\\\\x80\\\\x90', '-').\n",
    "            replace('\\\\xe2\\\\x80\\\\x91', '-').\n",
    "            replace('\\\\xe2\\\\x80\\\\x92', '-').\n",
    "            replace('\\\\xe2\\\\x80\\\\x93', '-').\n",
    "            replace('\\\\xe2\\\\x80\\\\x94', '-').\n",
    "            replace('\\\\xe2\\\\x80\\\\x94', '-').\n",
    "            replace('\\\\xe2\\\\x80\\\\x98', \"'\").\n",
    "            replace('\\\\xe2\\\\x80\\\\x9b', \"'\").\n",
    "            replace('\\\\xe2\\\\x80\\\\x9c', '\"').\n",
    "            replace('\\\\xe2\\\\x80\\\\x9c', '\"').\n",
    "            replace('\\\\xe2\\\\x80\\\\x9d', '\"').\n",
    "            replace('\\\\xe2\\\\x80\\\\x9e', '\"').\n",
    "            replace('\\\\xe2\\\\x80\\\\x9f', '\"').\n",
    "            replace('\\\\xe2\\\\x80\\\\xa6', '...').#\n",
    "            replace('\\\\xe2\\\\x80\\\\xb2', \"'\").\n",
    "            replace('\\\\xe2\\\\x80\\\\xb3', \"'\").\n",
    "            replace('\\\\xe2\\\\x80\\\\xb4', \"'\").\n",
    "            replace('\\\\xe2\\\\x80\\\\xb5', \"'\").\n",
    "            replace('\\\\xe2\\\\x80\\\\xb6', \"'\").\n",
    "            replace('\\\\xe2\\\\x80\\\\xb7', \"'\").\n",
    "            replace('\\\\xe2\\\\x81\\\\xba', \"+\").\n",
    "            replace('\\\\xe2\\\\x81\\\\xbb', \"-\").\n",
    "            replace('\\\\xe2\\\\x81\\\\xbc', \"=\").\n",
    "            replace('\\\\xe2\\\\x81\\\\xbd', \"(\").\n",
    "            replace('\\\\xe2\\\\x81\\\\xbe', \")\")\n",
    "\n",
    "                 )\n",
    "    return TEXT"
   ]
  },
  {
   "cell_type": "code",
   "execution_count": 51,
   "id": "b5db8ed9-753b-4159-b5fc-2e87d6d06e63",
   "metadata": {},
   "outputs": [],
   "source": [
    "res = requests.get(r\"https://www.indeed.com/jobs?q=information%20technology&l=San%20Francisco%2C%20CA&sc=0kf%3Aexplvl(MID_LEVEL)jt(fulltime)%3B&vjk=2d96653fd7ce7276&advn=8134151690508319\");"
   ]
  },
  {
   "cell_type": "code",
   "execution_count": 56,
   "id": "088bac1f-464e-4df9-bf2a-962fb69979a7",
   "metadata": {},
   "outputs": [],
   "source": [
    "soup = BeautifulSoup(str(res.content), \"html.parser\")"
   ]
  },
  {
   "cell_type": "code",
   "execution_count": 57,
   "id": "3506dab6-cfc1-4926-b22e-463dd73eb691",
   "metadata": {},
   "outputs": [],
   "source": [
    "elements = soup.find_all(\"a\", {\"class\": \"jcs-JobTitle\"})"
   ]
  },
  {
   "cell_type": "code",
   "execution_count": 68,
   "id": "64c3059a-809a-4272-9085-bdeab3f84a26",
   "metadata": {},
   "outputs": [],
   "source": [
    "added_str = elements[0][\"href\"]\n",
    "send_str = \"https://www.indeed.com\" + added_str\n",
    "current_res = requests.get(send_str)"
   ]
  },
  {
   "cell_type": "code",
   "execution_count": 9,
   "id": "41d9da7c-4b85-494f-9317-08abd28b7f27",
   "metadata": {},
   "outputs": [],
   "source": [
    "final_data = []"
   ]
  },
  {
   "cell_type": "code",
   "execution_count": 3,
   "id": "122adc8f-4a35-4d53-93f0-f0c1b3b64712",
   "metadata": {},
   "outputs": [],
   "source": [
    "import time"
   ]
  },
  {
   "cell_type": "code",
   "execution_count": 11,
   "id": "9be25479-1bc3-4e68-9032-64e37ea050ec",
   "metadata": {
    "scrolled": true,
    "tags": []
   },
   "outputs": [
    {
     "name": "stdout",
     "output_type": "stream",
     "text": [
      "<Response [200]>\n",
      "<Response [200]>\n",
      "<Response [200]>\n",
      "<Response [200]>\n",
      "<Response [200]>\n",
      "<Response [200]>\n",
      "<Response [200]>\n",
      "<Response [200]>\n",
      "<Response [200]>\n",
      "<Response [200]>\n",
      "<Response [200]>\n",
      "<Response [200]>\n",
      "<Response [200]>\n",
      "<Response [200]>\n",
      "<Response [200]>\n",
      "<Response [200]>\n",
      "<Response [200]>\n",
      "<Response [200]>\n",
      "<Response [200]>\n",
      "<Response [200]>\n",
      "<Response [200]>\n",
      "<Response [200]>\n",
      "<Response [200]>\n",
      "<Response [200]>\n",
      "<Response [200]>\n",
      "<Response [200]>\n",
      "<Response [200]>\n",
      "Wrong\n",
      "Wrong\n",
      "Wrong\n",
      "Wrong\n",
      "Wrong\n",
      "Wrong\n",
      "Wrong\n",
      "Wrong\n",
      "Wrong\n",
      "Wrong\n",
      "Wrong\n",
      "Wrong\n",
      "Wrong\n",
      "<Response [200]>\n",
      "<Response [200]>\n",
      "<Response [200]>\n",
      "<Response [200]>\n",
      "<Response [200]>\n",
      "<Response [200]>\n",
      "<Response [200]>\n",
      "<Response [200]>\n",
      "<Response [200]>\n",
      "<Response [200]>\n",
      "<Response [200]>\n",
      "<Response [200]>\n",
      "<Response [200]>\n"
     ]
    }
   ],
   "source": [
    "final_data = []\n",
    "for n in range(40):\n",
    "    time.sleep(2)\n",
    "    res = requests.get(f\"https://www.indeed.com//jobs?q=information+technology&l=San+Francisco%2C+CA&sc=0kf%3Aexplvl%28MID_LEVEL%29jt%28fulltime%29%3B&start={10*n}\");\n",
    "    print(res)\n",
    "    soup = BeautifulSoup(str(res.content), \"html.parser\")\n",
    "    elements = soup.find_all(\"a\", {\"class\": \"jcs-JobTitle\"})\n",
    "\n",
    "    for element in elements:\n",
    "        added_str = element[\"href\"]\n",
    "        send_str = \"https://www.indeed.com\" + added_str\n",
    "        current_res = requests.get(send_str)\n",
    "\n",
    "        soup = BeautifulSoup(str(current_res.content), \"html.parser\")\n",
    "        description = soup.find_all(\"div\", {\"class\": \"jobsearch-jobDescriptionText\"})\n",
    "        try:\n",
    "            raw_text = str(description[0].text)\n",
    "            raw_text = raw_text.replace(\"\\\\n\",\"\")\n",
    "            raw_text = raw_text.replace(\"  \",\" \")\n",
    "            final_data.append(raw_text)\n",
    "        except:\n",
    "            print(\"Wrong\")"
   ]
  },
  {
   "cell_type": "code",
   "execution_count": 13,
   "id": "33d06d27-181b-42d4-a171-30697f2486c8",
   "metadata": {},
   "outputs": [
    {
     "data": {
      "text/plain": [
       "62"
      ]
     },
     "execution_count": 13,
     "metadata": {},
     "output_type": "execute_result"
    }
   ],
   "source": [
    "len(final_data)"
   ]
  },
  {
   "cell_type": "code",
   "execution_count": null,
   "id": "7e294eea-b830-4714-92ae-92269757c708",
   "metadata": {
    "scrolled": true,
    "tags": []
   },
   "outputs": [],
   "source": [
    "final_data_dict_of_job_descriptions = {\"jobs\" : final_data}\n",
    "\n",
    "with open(\"./job_descriptions.json\", \"w\") as outfile:\n",
    "    json.dump(final_data_dict_of_job_descriptions, outfile)"
   ]
  },
  {
   "cell_type": "code",
   "execution_count": 2,
   "id": "0f8b2415-c2d9-4403-aef1-3493f29ee6dd",
   "metadata": {},
   "outputs": [
    {
     "ename": "OSError",
     "evalue": "dlopen(/opt/homebrew/lib/python3.9/site-packages/blingfire/libblingfiretokdll.dylib, 0x0006): tried: '/opt/homebrew/lib/python3.9/site-packages/blingfire/libblingfiretokdll.dylib' (mach-o file, but is an incompatible architecture (have 'x86_64', need 'arm64e')), '/usr/local/lib/libblingfiretokdll.dylib' (no such file), '/usr/lib/libblingfiretokdll.dylib' (no such file)",
     "output_type": "error",
     "traceback": [
      "\u001b[0;31m---------------------------------------------------------------------------\u001b[0m",
      "\u001b[0;31mOSError\u001b[0m                                   Traceback (most recent call last)",
      "Input \u001b[0;32mIn [2]\u001b[0m, in \u001b[0;36m<cell line: 1>\u001b[0;34m()\u001b[0m\n\u001b[0;32m----> 1\u001b[0m \u001b[38;5;28;01mfrom\u001b[39;00m \u001b[38;5;21;01mblingfire\u001b[39;00m \u001b[38;5;28;01mimport\u001b[39;00m \u001b[38;5;241m*\u001b[39m\n",
      "File \u001b[0;32m/opt/homebrew/lib/python3.9/site-packages/blingfire/__init__.py:19\u001b[0m, in \u001b[0;36m<module>\u001b[0;34m\u001b[0m\n\u001b[1;32m     17\u001b[0m \u001b[38;5;66;03m# detect Mac OSX\u001b[39;00m\n\u001b[1;32m     18\u001b[0m \u001b[38;5;28;01melif\u001b[39;00m platform\u001b[38;5;241m.\u001b[39msystem() \u001b[38;5;241m==\u001b[39m \u001b[38;5;124m\"\u001b[39m\u001b[38;5;124mDarwin\u001b[39m\u001b[38;5;124m\"\u001b[39m:\n\u001b[0;32m---> 19\u001b[0m     blingfire \u001b[38;5;241m=\u001b[39m \u001b[43mcdll\u001b[49m\u001b[38;5;241;43m.\u001b[39;49m\u001b[43mLoadLibrary\u001b[49m\u001b[43m(\u001b[49m\u001b[43mos\u001b[49m\u001b[38;5;241;43m.\u001b[39;49m\u001b[43mpath\u001b[49m\u001b[38;5;241;43m.\u001b[39;49m\u001b[43mjoin\u001b[49m\u001b[43m(\u001b[49m\u001b[43mpath\u001b[49m\u001b[43m,\u001b[49m\u001b[43m \u001b[49m\u001b[38;5;124;43m\"\u001b[39;49m\u001b[38;5;124;43mlibblingfiretokdll.dylib\u001b[39;49m\u001b[38;5;124;43m\"\u001b[39;49m\u001b[43m)\u001b[49m\u001b[43m)\u001b[49m\n\u001b[1;32m     20\u001b[0m \u001b[38;5;28;01melse\u001b[39;00m:\n\u001b[1;32m     21\u001b[0m \u001b[38;5;66;03m# detect linux\u001b[39;00m\n\u001b[1;32m     22\u001b[0m     blingfire \u001b[38;5;241m=\u001b[39m cdll\u001b[38;5;241m.\u001b[39mLoadLibrary(os\u001b[38;5;241m.\u001b[39mpath\u001b[38;5;241m.\u001b[39mjoin(path, \u001b[38;5;124m\"\u001b[39m\u001b[38;5;124mlibblingfiretokdll.so\u001b[39m\u001b[38;5;124m\"\u001b[39m))\n",
      "File \u001b[0;32m/opt/homebrew/Cellar/python@3.9/3.9.12_1/Frameworks/Python.framework/Versions/3.9/lib/python3.9/ctypes/__init__.py:452\u001b[0m, in \u001b[0;36mLibraryLoader.LoadLibrary\u001b[0;34m(self, name)\u001b[0m\n\u001b[1;32m    451\u001b[0m \u001b[38;5;28;01mdef\u001b[39;00m \u001b[38;5;21mLoadLibrary\u001b[39m(\u001b[38;5;28mself\u001b[39m, name):\n\u001b[0;32m--> 452\u001b[0m     \u001b[38;5;28;01mreturn\u001b[39;00m \u001b[38;5;28;43mself\u001b[39;49m\u001b[38;5;241;43m.\u001b[39;49m\u001b[43m_dlltype\u001b[49m\u001b[43m(\u001b[49m\u001b[43mname\u001b[49m\u001b[43m)\u001b[49m\n",
      "File \u001b[0;32m/opt/homebrew/Cellar/python@3.9/3.9.12_1/Frameworks/Python.framework/Versions/3.9/lib/python3.9/ctypes/__init__.py:374\u001b[0m, in \u001b[0;36mCDLL.__init__\u001b[0;34m(self, name, mode, handle, use_errno, use_last_error, winmode)\u001b[0m\n\u001b[1;32m    371\u001b[0m \u001b[38;5;28mself\u001b[39m\u001b[38;5;241m.\u001b[39m_FuncPtr \u001b[38;5;241m=\u001b[39m _FuncPtr\n\u001b[1;32m    373\u001b[0m \u001b[38;5;28;01mif\u001b[39;00m handle \u001b[38;5;129;01mis\u001b[39;00m \u001b[38;5;28;01mNone\u001b[39;00m:\n\u001b[0;32m--> 374\u001b[0m     \u001b[38;5;28mself\u001b[39m\u001b[38;5;241m.\u001b[39m_handle \u001b[38;5;241m=\u001b[39m \u001b[43m_dlopen\u001b[49m\u001b[43m(\u001b[49m\u001b[38;5;28;43mself\u001b[39;49m\u001b[38;5;241;43m.\u001b[39;49m\u001b[43m_name\u001b[49m\u001b[43m,\u001b[49m\u001b[43m \u001b[49m\u001b[43mmode\u001b[49m\u001b[43m)\u001b[49m\n\u001b[1;32m    375\u001b[0m \u001b[38;5;28;01melse\u001b[39;00m:\n\u001b[1;32m    376\u001b[0m     \u001b[38;5;28mself\u001b[39m\u001b[38;5;241m.\u001b[39m_handle \u001b[38;5;241m=\u001b[39m handle\n",
      "\u001b[0;31mOSError\u001b[0m: dlopen(/opt/homebrew/lib/python3.9/site-packages/blingfire/libblingfiretokdll.dylib, 0x0006): tried: '/opt/homebrew/lib/python3.9/site-packages/blingfire/libblingfiretokdll.dylib' (mach-o file, but is an incompatible architecture (have 'x86_64', need 'arm64e')), '/usr/local/lib/libblingfiretokdll.dylib' (no such file), '/usr/lib/libblingfiretokdll.dylib' (no such file)"
     ]
    }
   ],
   "source": [
    "from blingfire import *"
   ]
  },
  {
   "cell_type": "code",
   "execution_count": null,
   "id": "6c486447-8b9c-4897-a44c-f1179f44aeba",
   "metadata": {},
   "outputs": [],
   "source": []
  }
 ],
 "metadata": {
  "kernelspec": {
   "display_name": "Python 3 (ipykernel)",
   "language": "python",
   "name": "python3"
  },
  "language_info": {
   "codemirror_mode": {
    "name": "ipython",
    "version": 3
   },
   "file_extension": ".py",
   "mimetype": "text/x-python",
   "name": "python",
   "nbconvert_exporter": "python",
   "pygments_lexer": "ipython3",
   "version": "3.10.4"
  }
 },
 "nbformat": 4,
 "nbformat_minor": 5
}
