{
 "cells": [
  {
   "cell_type": "code",
   "execution_count": 1,
   "id": "c77676b5-de69-40c5-8032-4d3766ada626",
   "metadata": {},
   "outputs": [],
   "source": [
    "import os\n",
    "import json\n",
    "from bs4 import BeautifulSoup\n",
    "import requests"
   ]
  },
  {
   "cell_type": "code",
   "execution_count": 2,
   "id": "bde378dd-82cb-46f3-a14f-d0b1a0790721",
   "metadata": {},
   "outputs": [],
   "source": [
    "def unicodetoascii(text):\n",
    "\n",
    "    TEXT = (text.\n",
    "    \t\treplace('\\\\xe2\\\\x80\\\\x99', \"'\").\n",
    "            replace('\\\\xc3\\\\xa9', 'e').\n",
    "            replace('\\\\xe2\\\\x80\\\\x90', '-').\n",
    "            replace('\\\\xe2\\\\x80\\\\x91', '-').\n",
    "            replace('\\\\xe2\\\\x80\\\\x92', '-').\n",
    "            replace('\\\\xe2\\\\x80\\\\x93', '-').\n",
    "            replace('\\\\xe2\\\\x80\\\\x94', '-').\n",
    "            replace('\\\\xe2\\\\x80\\\\x94', '-').\n",
    "            replace('\\\\xe2\\\\x80\\\\x98', \"'\").\n",
    "            replace('\\\\xe2\\\\x80\\\\x9b', \"'\").\n",
    "            replace('\\\\xe2\\\\x80\\\\x9c', '\"').\n",
    "            replace('\\\\xe2\\\\x80\\\\x9c', '\"').\n",
    "            replace('\\\\xe2\\\\x80\\\\x9d', '\"').\n",
    "            replace('\\\\xe2\\\\x80\\\\x9e', '\"').\n",
    "            replace('\\\\xe2\\\\x80\\\\x9f', '\"').\n",
    "            replace('\\\\xe2\\\\x80\\\\xa6', '...').#\n",
    "            replace('\\\\xe2\\\\x80\\\\xb2', \"'\").\n",
    "            replace('\\\\xe2\\\\x80\\\\xb3', \"'\").\n",
    "            replace('\\\\xe2\\\\x80\\\\xb4', \"'\").\n",
    "            replace('\\\\xe2\\\\x80\\\\xb5', \"'\").\n",
    "            replace('\\\\xe2\\\\x80\\\\xb6', \"'\").\n",
    "            replace('\\\\xe2\\\\x80\\\\xb7', \"'\").\n",
    "            replace('\\\\xe2\\\\x81\\\\xba', \"+\").\n",
    "            replace('\\\\xe2\\\\x81\\\\xbb', \"-\").\n",
    "            replace('\\\\xe2\\\\x81\\\\xbc', \"=\").\n",
    "            replace('\\\\xe2\\\\x81\\\\xbd', \"(\").\n",
    "            replace('\\\\xe2\\\\x81\\\\xbe', \")\")\n",
    "\n",
    "                 )\n",
    "    return TEXT"
   ]
  },
  {
   "cell_type": "code",
   "execution_count": 3,
   "id": "ea764ba6-4dc7-41e9-bf2b-467e397f34c7",
   "metadata": {},
   "outputs": [],
   "source": [
    "final_data = []"
   ]
  },
  {
   "cell_type": "code",
   "execution_count": 4,
   "id": "4f47ee38-f644-4977-a4f9-1035b1ca1334",
   "metadata": {},
   "outputs": [],
   "source": [
    "for n in range(10):\n",
    "    res = requests.get(f\"https://www.indeed.com//jobs?q=information+technology&l=San+Francisco%2C+CA&sc=0kf%3Aexplvl%28MID_LEVEL%29jt%28fulltime%29%3B&start={10*n}\");\n",
    "    soup = BeautifulSoup(str(res.content), \"html.parser\")\n",
    "    elements = soup.find_all(\"a\", {\"class\": \"jcs-JobTitle\"})\n",
    "\n",
    "    for element in elements:\n",
    "        added_str = element[\"href\"]\n",
    "        send_str = \"https://www.indeed.com\" + added_str\n",
    "        current_res = requests.get(send_str)\n",
    "\n",
    "        soup = BeautifulSoup(str(current_res.content), \"html.parser\")\n",
    "        description = soup.find_all(\"div\", {\"class\": \"jobsearch-jobDescriptionText\"})\n",
    "        raw_text = str(description[0].text)\n",
    "        raw_text = raw_text.replace(\"\\\\n\",\"\")\n",
    "        raw_text = raw_text.replace(\"  \",\" \")\n",
    "        final_data.append(raw_text)"
   ]
  },
  {
   "cell_type": "code",
   "execution_count": null,
   "id": "784c0fd1-c527-4ccc-a969-8b6aa4831613",
   "metadata": {},
   "outputs": [],
   "source": []
  }
 ],
 "metadata": {
  "kernelspec": {
   "display_name": "Python 3 (ipykernel)",
   "language": "python",
   "name": "python3"
  },
  "language_info": {
   "codemirror_mode": {
    "name": "ipython",
    "version": 3
   },
   "file_extension": ".py",
   "mimetype": "text/x-python",
   "name": "python",
   "nbconvert_exporter": "python",
   "pygments_lexer": "ipython3",
   "version": "3.9.12"
  }
 },
 "nbformat": 4,
 "nbformat_minor": 5
}
